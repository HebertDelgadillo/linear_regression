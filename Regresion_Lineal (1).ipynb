{
  "nbformat": 4,
  "nbformat_minor": 0,
  "metadata": {
    "colab": {
      "provenance": []
    },
    "kernelspec": {
      "name": "python3",
      "display_name": "Python 3"
    },
    "language_info": {
      "name": "python"
    }
  },
  "cells": [
    {
      "cell_type": "code",
      "execution_count": 74,
      "metadata": {
        "id": "jw0s5DU3dEE3"
      },
      "outputs": [],
      "source": [
        "import pandas as pd\n",
        "import numpy as np\n",
        "import matplotlib.pyplot as plt\n",
        "from sklearn import linear_model\n",
        "import warnings\n",
        "warnings.filterwarnings(\"ignore\") # Artificios"
      ]
    },
    {
      "cell_type": "code",
      "source": [
        "url_datos=\"https://raw.githubusercontent.com/HebertDelgadillo/linear_regression/main/datos%20pirai2.csv\"\n",
        "datos=pd.read_csv(url_datos,header=0)\n",
        "datos.shape"
      ],
      "metadata": {
        "colab": {
          "base_uri": "https://localhost:8080/"
        },
        "id": "4nrxcjZ8fN1b",
        "outputId": "30e21df7-564d-42f9-d055-6891b754645d"
      },
      "execution_count": 75,
      "outputs": [
        {
          "output_type": "execute_result",
          "data": {
            "text/plain": [
              "(13140, 6)"
            ]
          },
          "metadata": {},
          "execution_count": 75
        }
      ]
    },
    {
      "cell_type": "code",
      "source": [
        "regresion=linear_model.LinearRegression()\n",
        "tx,ty=datos.shape                                        # Tamano de datos\n",
        "for i in range(int(ty/2)): #Bucle\n",
        "    aux=datos[[datos.columns[i*2],datos.columns[i*2+1]]] # Separa las primeras 2 columnas\n",
        "    aux.dropna(inplace=True)                             # Elimina nulos\n",
        "    var_x=aux[aux.columns[1]].values.reshape((-1,1))     # Reestrutura el tipo de datos\n",
        "    var_y=aux[aux.columns[0]]\n",
        "    modelo=regresion.fit(var_x,var_y)\n",
        "    print('Interseccion',i,'en el eje Y de',datos.columns[i*2],':', modelo.intercept_)  #Imprimir datos\n",
        "    print('Pendiente',i,':',modelo.coef_)"
      ],
      "metadata": {
        "colab": {
          "base_uri": "https://localhost:8080/"
        },
        "id": "9POd4ZWGo9Jo",
        "outputId": "ffa21f83-66f1-4dcb-cdea-9374d8bba523"
      },
      "execution_count": 76,
      "outputs": [
        {
          "output_type": "stream",
          "name": "stdout",
          "text": [
            "Interseccion 0 en el eje Y de Pirai : 163.7858203568835\n",
            "Pendiente 0 : [0.2831069]\n",
            "Interseccion 1 en el eje Y de Rurrenabaque : -502.14557000330205\n",
            "Pendiente 1 : [0.69246047]\n",
            "Interseccion 2 en el eje Y de portachuelo2estrellas : 4.035474277637604\n",
            "Pendiente 2 : [0.50541065]\n"
          ]
        }
      ]
    }
  ]
}